{
 "cells": [
  {
   "cell_type": "code",
   "execution_count": 11,
   "metadata": {
    "collapsed": false
   },
   "outputs": [],
   "source": [
    "# coding=utf-8\n",
    "__author__ = 'victor'\n",
    "\n",
    "import os\n",
    "import sys\n",
    "sys.path.append('..')\n",
    "sys.path.append('../../util')\n",
    "reload(sys)\n",
    "sys.setdefaultencoding('utf-8')\n",
    "\n",
    "import db as dbcon\n",
    "import pandas as pd\n",
    "from datetime import datetime, timedelta"
   ]
  },
  {
   "cell_type": "code",
   "execution_count": 5,
   "metadata": {
    "collapsed": true
   },
   "outputs": [],
   "source": [
    "mongo = dbcon.connect_mongo()"
   ]
  },
  {
   "cell_type": "code",
   "execution_count": 24,
   "metadata": {
    "collapsed": false
   },
   "outputs": [],
   "source": [
    "def __evaluate_download(mongo, market, row, aspect='abs'):\n",
    "\n",
    "    \"\"\"\n",
    "    evaluate artifact's download performance,\n",
    "        abs, absolute download\n",
    "        growth, 5 days' download delta rate\n",
    "    \"\"\"\n",
    "    df = pd.DataFrame(list(mongo.trend.android.find({'apkname': row[1], 'appmarket': market,\n",
    "                                                     'date': {'$gt': (datetime.today()-timedelta(days=15))}})))\n",
    "    if df.shape[0] == 0:\n",
    "        return 0\n",
    "    df.fillna(method='pad')\n",
    "    if aspect == 'abs':\n",
    "        try:\n",
    "            return df.download.mean()\n",
    "        except AttributeError, ae:\n",
    "            return -1\n",
    "        except Exception, e:\n",
    "            download = [int(x) for x in list(df.download)]\n",
    "            return sum(download)/len(download)\n",
    "    if aspect == 'growth':\n",
    "        df = df.sort_values(by='date', ascending=False)\n",
    "        return (df.iloc[0].download - df.iloc[-1].download) / df.shape[0]"
   ]
  },
  {
   "cell_type": "code",
   "execution_count": 25,
   "metadata": {
    "collapsed": false
   },
   "outputs": [
    {
     "data": {
      "text/plain": [
       "0.0"
      ]
     },
     "execution_count": 25,
     "metadata": {},
     "output_type": "execute_result"
    }
   ],
   "source": [
    "row = [1, 'com.leho.mag.food']\n",
    "market = 16010\n",
    "__evaluate_download(mongo, market, row, 'growth')"
   ]
  },
  {
   "cell_type": "code",
   "execution_count": 23,
   "metadata": {
    "collapsed": false
   },
   "outputs": [
    {
     "data": {
      "text/html": [
       "<div>\n",
       "<table border=\"1\" class=\"dataframe\">\n",
       "  <thead>\n",
       "    <tr style=\"text-align: right;\">\n",
       "      <th></th>\n",
       "      <th>_id</th>\n",
       "      <th>apkname</th>\n",
       "      <th>appmarket</th>\n",
       "      <th>comment</th>\n",
       "      <th>date</th>\n",
       "      <th>download</th>\n",
       "      <th>score</th>\n",
       "    </tr>\n",
       "  </thead>\n",
       "  <tbody>\n",
       "    <tr>\n",
       "      <th>6</th>\n",
       "      <td>5773e504e4861d428410e106</td>\n",
       "      <td>com.leho.mag.food</td>\n",
       "      <td>16010</td>\n",
       "      <td>0</td>\n",
       "      <td>2016-06-29</td>\n",
       "      <td>30000</td>\n",
       "      <td>3.6</td>\n",
       "    </tr>\n",
       "    <tr>\n",
       "      <th>5</th>\n",
       "      <td>57750688e4861d0f5d5470e9</td>\n",
       "      <td>com.leho.mag.food</td>\n",
       "      <td>16010</td>\n",
       "      <td>0</td>\n",
       "      <td>2016-06-30</td>\n",
       "      <td>30000</td>\n",
       "      <td>3.6</td>\n",
       "    </tr>\n",
       "    <tr>\n",
       "      <th>4</th>\n",
       "      <td>5775abf1e4861d3b23e08270</td>\n",
       "      <td>com.leho.mag.food</td>\n",
       "      <td>16010</td>\n",
       "      <td>0</td>\n",
       "      <td>2016-07-01</td>\n",
       "      <td>30000</td>\n",
       "      <td>3.6</td>\n",
       "    </tr>\n",
       "    <tr>\n",
       "      <th>3</th>\n",
       "      <td>57770459e4861d711adfaeee</td>\n",
       "      <td>com.leho.mag.food</td>\n",
       "      <td>16010</td>\n",
       "      <td>0</td>\n",
       "      <td>2016-07-02</td>\n",
       "      <td>30000</td>\n",
       "      <td>3.6</td>\n",
       "    </tr>\n",
       "    <tr>\n",
       "      <th>2</th>\n",
       "      <td>577857cae4861d1d99f8ffa3</td>\n",
       "      <td>com.leho.mag.food</td>\n",
       "      <td>16010</td>\n",
       "      <td>0</td>\n",
       "      <td>2016-07-03</td>\n",
       "      <td>30000</td>\n",
       "      <td>3.6</td>\n",
       "    </tr>\n",
       "    <tr>\n",
       "      <th>1</th>\n",
       "      <td>5779ac4be4861d7bd598bd04</td>\n",
       "      <td>com.leho.mag.food</td>\n",
       "      <td>16010</td>\n",
       "      <td>0</td>\n",
       "      <td>2016-07-04</td>\n",
       "      <td>30000</td>\n",
       "      <td>3.6</td>\n",
       "    </tr>\n",
       "    <tr>\n",
       "      <th>0</th>\n",
       "      <td>577afc12e4861d69738c016d</td>\n",
       "      <td>com.leho.mag.food</td>\n",
       "      <td>16010</td>\n",
       "      <td>0</td>\n",
       "      <td>2016-07-05</td>\n",
       "      <td>30000</td>\n",
       "      <td>3.6</td>\n",
       "    </tr>\n",
       "  </tbody>\n",
       "</table>\n",
       "</div>"
      ],
      "text/plain": [
       "                        _id            apkname  appmarket  comment       date  \\\n",
       "6  5773e504e4861d428410e106  com.leho.mag.food      16010        0 2016-06-29   \n",
       "5  57750688e4861d0f5d5470e9  com.leho.mag.food      16010        0 2016-06-30   \n",
       "4  5775abf1e4861d3b23e08270  com.leho.mag.food      16010        0 2016-07-01   \n",
       "3  57770459e4861d711adfaeee  com.leho.mag.food      16010        0 2016-07-02   \n",
       "2  577857cae4861d1d99f8ffa3  com.leho.mag.food      16010        0 2016-07-03   \n",
       "1  5779ac4be4861d7bd598bd04  com.leho.mag.food      16010        0 2016-07-04   \n",
       "0  577afc12e4861d69738c016d  com.leho.mag.food      16010        0 2016-07-05   \n",
       "\n",
       "   download  score  \n",
       "6     30000    3.6  \n",
       "5     30000    3.6  \n",
       "4     30000    3.6  \n",
       "3     30000    3.6  \n",
       "2     30000    3.6  \n",
       "1     30000    3.6  \n",
       "0     30000    3.6  "
      ]
     },
     "execution_count": 23,
     "metadata": {},
     "output_type": "execute_result"
    }
   ],
   "source": [
    "df.sort_values(by='date')"
   ]
  },
  {
   "cell_type": "code",
   "execution_count": 10,
   "metadata": {
    "collapsed": false
   },
   "outputs": [],
   "source": [
    "f = lambda x: evaluate_download(mongo, 16020, x)\n",
    "df['download'] = df.apply(f, 1)"
   ]
  },
  {
   "cell_type": "code",
   "execution_count": null,
   "metadata": {
    "collapsed": true
   },
   "outputs": [],
   "source": []
  }
 ],
 "metadata": {
  "kernelspec": {
   "display_name": "Python 2",
   "language": "python",
   "name": "python2"
  },
  "language_info": {
   "codemirror_mode": {
    "name": "ipython",
    "version": 2
   },
   "file_extension": ".py",
   "mimetype": "text/x-python",
   "name": "python",
   "nbconvert_exporter": "python",
   "pygments_lexer": "ipython2",
   "version": "2.7.10"
  }
 },
 "nbformat": 4,
 "nbformat_minor": 0
}
